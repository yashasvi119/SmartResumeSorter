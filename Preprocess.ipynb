{
 "cells": [
  {
   "cell_type": "markdown",
   "id": "c29bcf36-d78e-475a-8615-794db6a15cfc",
   "metadata": {
    "tags": []
   },
   "source": [
    "# Document Classification - HR"
   ]
  },
  {
   "cell_type": "code",
   "execution_count": 2,
   "id": "f80663f6-7f86-420c-9c1c-3f996f31fbb6",
   "metadata": {
    "tags": []
   },
   "outputs": [],
   "source": [
    "# install necessary packages\n",
    "!pip install -q -r requirements.txt"
   ]
  },
  {
   "cell_type": "code",
   "execution_count": 3,
   "id": "0941fcac-ac9d-45f8-b062-9c80db5a4135",
   "metadata": {
    "tags": []
   },
   "outputs": [],
   "source": [
    "# Import necessary libraries and modules\n",
    "import logging\n",
    "logger = logging.getLogger('sagemaker')\n",
    "logger.setLevel(logging.WARNING)\n",
    "logging.getLogger(\"sagemaker.config\").setLevel(logging.WARNING)\n",
    "\n",
    "import boto3\n",
    "import sagemaker\n",
    "import botocore\n",
    "from io import BytesIO\n",
    "\n",
    "import pandas as pd\n",
    "import numpy as np\n",
    "import random\n",
    "import seaborn as sns\n",
    "import matplotlib.pyplot as plt\n",
    "import joblib\n",
    "%matplotlib inline\n",
    "\n",
    "import os\n",
    "from utils import prepare_data,rf_model"
   ]
  },
  {
   "cell_type": "code",
   "execution_count": 4,
   "id": "145670e1-f3ee-4421-9a37-0087e9d040cf",
   "metadata": {
    "tags": []
   },
   "outputs": [],
   "source": [
    "def load_csv_from_s3(bucket_name, file_key, s3_client):\n",
    "    obj = s3_client.get_object(Bucket=bucket_name, Key=file_key)\n",
    "    return pd.read_csv(BytesIO(obj['Body'].read()))"
   ]
  },
  {
   "cell_type": "code",
   "execution_count": 5,
   "id": "8900452e-2948-4ef6-9cf8-53075fa5e873",
   "metadata": {
    "tags": []
   },
   "outputs": [
    {
     "name": "stdout",
     "output_type": "stream",
     "text": [
      "S3 Bucket: docu-classification\n",
      "File data loaded.\n",
      "File train_data loaded.\n",
      "File val_data loaded.\n",
      "File test_data loaded.\n"
     ]
    }
   ],
   "source": [
    "# Initialize S3 client \n",
    "s3_client = boto3.client(service_name='s3')\n",
    "bucket_name = \"docu-classification\"  # identified bucket\n",
    "print('S3 Bucket: {}'.format(bucket_name))\n",
    "\n",
    "file_prefix = \"data/\"\n",
    "datasets = {}\n",
    "for filename in [\"data\", \"train_data\", \"val_data\", \"test_data\"]:\n",
    "    file_key = f\"{file_prefix}{filename}.csv\"  \n",
    "    try:\n",
    "        datasets[filename] = load_csv_from_s3(bucket_name, file_key, s3_client) #load data file\n",
    "        print(f\"File {filename} loaded.\")\n",
    "    except Exception as e:\n",
    "        print(f\"Error occurred while uploading file: {e}\")\n",
    "\n",
    "#implement datasets\n",
    "data = datasets[\"data\"]\n",
    "train_data = datasets[\"train_data\"]\n",
    "val_data = datasets[\"val_data\"]\n",
    "test_data = datasets[\"test_data\"]"
   ]
  },
  {
   "cell_type": "markdown",
   "id": "3f3fe475-29f1-4544-a3e0-35a13b25605e",
   "metadata": {
    "tags": []
   },
   "source": [
    "# 1. Preprocess"
   ]
  },
  {
   "cell_type": "code",
   "execution_count": 6,
   "id": "18d2ac3f-96c5-49f9-9a4a-a89bc544de06",
   "metadata": {
    "tags": []
   },
   "outputs": [],
   "source": [
    "# Create the folder models inside the bucket\n",
    "folder_name = 'models/'\n",
    "try:\n",
    "    # Uploading an empty file to create a folder-like prefix\n",
    "    s3_client.put_object(Bucket=bucket_name, Key=folder_name)\n",
    "    print(f\"Folder '{folder_name}' created in bucket '{bucket_name}'.\")\n",
    "except Exception as e:\n",
    "    print(f\"Error occurred while creating the folder: {e}\")\n",
    "    \n",
    "# # Create a folder named 'models' if it does not exist\n",
    "# folder_name = 'models'\n",
    "# if not os.path.exists(folder_name):\n",
    "#     os.makedirs(folder_name)\n",
    "#     print(\"Folder created.\")"
   ]
  },
  {
   "cell_type": "markdown",
   "id": "7365434b-240e-4456-8258-871c349bfca1",
   "metadata": {},
   "source": [
    "In model training data preparation, TF-IDF vectorization is used to convert text into numerical features by weighting words based on their relevance across documents. It moderates the impact of frequently occurring words to provide meaningful feature representation, with adjustments in max_features based on dataset size."
   ]
  },
  {
   "cell_type": "code",
   "execution_count": 7,
   "id": "bc5a2ad3-0fb3-4a24-adeb-f6c5d4724230",
   "metadata": {
    "tags": []
   },
   "outputs": [
    {
     "data": {
      "text/html": [
       "<div>\n",
       "<style scoped>\n",
       "    .dataframe tbody tr th:only-of-type {\n",
       "        vertical-align: middle;\n",
       "    }\n",
       "\n",
       "    .dataframe tbody tr th {\n",
       "        vertical-align: top;\n",
       "    }\n",
       "\n",
       "    .dataframe thead th {\n",
       "        text-align: right;\n",
       "    }\n",
       "</style>\n",
       "<table border=\"1\" class=\"dataframe\">\n",
       "  <thead>\n",
       "    <tr style=\"text-align: right;\">\n",
       "      <th></th>\n",
       "      <th>class</th>\n",
       "      <th>resume</th>\n",
       "      <th>resume_str</th>\n",
       "      <th>cleaned_resume</th>\n",
       "      <th>word_count</th>\n",
       "    </tr>\n",
       "  </thead>\n",
       "  <tbody>\n",
       "    <tr>\n",
       "      <th>0</th>\n",
       "      <td>ACCOUNTANT</td>\n",
       "      <td>data/data/data/ACCOUNTANT/10554236.pdf</td>\n",
       "      <td>ACCOUNTANT\\nSummary\\nFinancial Accountant spec...</td>\n",
       "      <td>accountant summary financial accountant specia...</td>\n",
       "      <td>2242</td>\n",
       "    </tr>\n",
       "    <tr>\n",
       "      <th>1</th>\n",
       "      <td>ACCOUNTANT</td>\n",
       "      <td>data/data/data/ACCOUNTANT/10674770.pdf</td>\n",
       "      <td>STAFF ACCOUNTANT\\nSummary\\nHighly analytical a...</td>\n",
       "      <td>staff accountant summary highly analytical det...</td>\n",
       "      <td>767</td>\n",
       "    </tr>\n",
       "    <tr>\n",
       "      <th>2</th>\n",
       "      <td>ACCOUNTANT</td>\n",
       "      <td>data/data/data/ACCOUNTANT/11163645.pdf</td>\n",
       "      <td>ACCOUNTANT\\nProfessional Summary\\nTo obtain a ...</td>\n",
       "      <td>accountant professional summary obtain positio...</td>\n",
       "      <td>500</td>\n",
       "    </tr>\n",
       "    <tr>\n",
       "      <th>3</th>\n",
       "      <td>ACCOUNTANT</td>\n",
       "      <td>data/data/data/ACCOUNTANT/11759079.pdf</td>\n",
       "      <td>SENIOR ACCOUNTANT\\nExperience\\nCompany Name\\n ...</td>\n",
       "      <td>senior accountant june 2011 current senior acc...</td>\n",
       "      <td>622</td>\n",
       "    </tr>\n",
       "    <tr>\n",
       "      <th>4</th>\n",
       "      <td>ACCOUNTANT</td>\n",
       "      <td>data/data/data/ACCOUNTANT/12065211.pdf</td>\n",
       "      <td>SENIOR ACCOUNTANT\\nProfessional Summary\\nSenio...</td>\n",
       "      <td>senior accountant professional summary senior ...</td>\n",
       "      <td>573</td>\n",
       "    </tr>\n",
       "  </tbody>\n",
       "</table>\n",
       "</div>"
      ],
      "text/plain": [
       "        class                                  resume  \\\n",
       "0  ACCOUNTANT  data/data/data/ACCOUNTANT/10554236.pdf   \n",
       "1  ACCOUNTANT  data/data/data/ACCOUNTANT/10674770.pdf   \n",
       "2  ACCOUNTANT  data/data/data/ACCOUNTANT/11163645.pdf   \n",
       "3  ACCOUNTANT  data/data/data/ACCOUNTANT/11759079.pdf   \n",
       "4  ACCOUNTANT  data/data/data/ACCOUNTANT/12065211.pdf   \n",
       "\n",
       "                                          resume_str  \\\n",
       "0  ACCOUNTANT\\nSummary\\nFinancial Accountant spec...   \n",
       "1  STAFF ACCOUNTANT\\nSummary\\nHighly analytical a...   \n",
       "2  ACCOUNTANT\\nProfessional Summary\\nTo obtain a ...   \n",
       "3  SENIOR ACCOUNTANT\\nExperience\\nCompany Name\\n ...   \n",
       "4  SENIOR ACCOUNTANT\\nProfessional Summary\\nSenio...   \n",
       "\n",
       "                                      cleaned_resume  word_count  \n",
       "0  accountant summary financial accountant specia...        2242  \n",
       "1  staff accountant summary highly analytical det...         767  \n",
       "2  accountant professional summary obtain positio...         500  \n",
       "3  senior accountant june 2011 current senior acc...         622  \n",
       "4  senior accountant professional summary senior ...         573  "
      ]
     },
     "execution_count": 7,
     "metadata": {},
     "output_type": "execute_result"
    }
   ],
   "source": [
    "data.head()"
   ]
  },
  {
   "cell_type": "code",
   "execution_count": 9,
   "id": "2567cae9-f363-41c5-b9e8-7abc63425b5c",
   "metadata": {
    "tags": []
   },
   "outputs": [],
   "source": [
    "import joblib\n",
    "from sklearn.feature_extraction.text import TfidfVectorizer\n",
    "from sklearn.preprocessing import LabelEncoder\n",
    "\n",
    "def preprocess_dataset(data, text_column, label_column, dataset_isTrain = True, max_features=1000, sublinear_tf = True):\n",
    "    \"\"\"\n",
    "    Function to preprocess a single dataset using TF-IDF for text data and encode labels.\n",
    "\n",
    "    Args:\n",
    "    data: DataFrame containing the dataset.\n",
    "    text_column (str): Name of the column in DataFrame containing the text data.\n",
    "    label_column (str): Name of the column in DataFrame containing the label data.\n",
    "    max_features (int): Number of max features for TfidfVectorizer.\n",
    "\n",
    "    Returns:\n",
    "    X: Processed features.\n",
    "    y_encoded: Encoded labels.\n",
    "    \"\"\"\n",
    "    \n",
    "    if dataset_isTrain == True:\n",
    "        # Initialize the TF-IDF Vectorizer\n",
    "        tfidf_vectorizer = TfidfVectorizer(max_features=max_features, stop_words='english', sublinear_tf=sublinear_tf)\n",
    "        X = tfidf_vectorizer.fit_transform(data[text_column])\n",
    "        label_encoder = LabelEncoder() # Initialize the LabelEncoder (for predicted categories)     \n",
    "        y_encoded = label_encoder.fit_transform(data[label_column]) # Transform the target var to numerical classes\n",
    "        \n",
    "        # Save the vectorizer and label encoder\n",
    "        joblib.dump(tfidf_vectorizer, 'models/tfidf_vectorizer.pkl')\n",
    "        joblib.dump(label_encoder, 'models/label_encoder.pkl')\n",
    "    \n",
    "    else:\n",
    "        # Load the TF-IDF Vectorizer\n",
    "        tfidf_vectorizer = joblib.load('models/tfidf_vectorizer.pkl')\n",
    "        X = tfidf_vectorizer.transform(data[text_column])\n",
    "        # Load the LabelEncoder & transform data\n",
    "        label_encoder = joblib.load('models/label_encoder.pkl')\n",
    "        y_encoded = label_encoder.transform(data[label_column])\n",
    "\n",
    "    \n",
    "    return X, y_encoded\n"
   ]
  },
  {
   "cell_type": "code",
   "execution_count": 10,
   "id": "a25aedbc-4438-42be-872f-22c158e17168",
   "metadata": {
    "tags": []
   },
   "outputs": [],
   "source": [
    "text_feature = \"cleaned_resume\"\n",
    "target_feature = \"class\"\n",
    "\n",
    "# Transform the test data into TF-IDF vectors\n",
    "X_train,y_train = preprocess_dataset(train_data, text_feature, target_feature, \n",
    "                                     dataset_isTrain = True, max_features=768, sublinear_tf=False)\n",
    "X_val, y_val = preprocess_dataset(val_data, text_feature, target_feature, \n",
    "                                  dataset_isTrain = False)\n",
    "X_test, y_test = preprocess_dataset(test_data, text_feature, target_feature, \n",
    "                                  dataset_isTrain = False)"
   ]
  },
  {
   "cell_type": "markdown",
   "id": "92dbb000-1ac5-49e8-bd1a-a7fe6e1a9819",
   "metadata": {},
   "source": [
    "A high TF-IDF score indicates a word that is both frequent in a particular document and not very common in the corpus as a whole, making it a useful feature for distinguishing between documents."
   ]
  },
  {
   "cell_type": "code",
   "execution_count": null,
   "id": "ec8bf9b3-1f08-4474-a8d2-9047637e48e9",
   "metadata": {
    "scrolled": true,
    "tags": []
   },
   "outputs": [],
   "source": [
    "# Get the indices of non-zero features (words) in the k-th document (X_val[k])\n",
    "k = 1235\n",
    "non_zero_indices = X_train[k].nonzero()[1]\n",
    "\n",
    "# Get the corresponding feature names\n",
    "feature_names = tfidf_vectorizer.get_feature_names_out()\n",
    "\n",
    "# Show corresponding words and their TF-IDF score\n",
    "print(f\"Category: {label_encoder.classes_[y_train[k]]}\")\n",
    "for index in non_zero_indices:\n",
    "    word = feature_names[index]\n",
    "    score = X_train[k, index]\n",
    "    print(f\"Word : {word}, Score TF-IDF : {score}\")"
   ]
  },
  {
   "cell_type": "code",
   "execution_count": 13,
   "id": "918c1e33-937c-4a35-9da3-ad47ae4d6bc4",
   "metadata": {
    "tags": []
   },
   "outputs": [
    {
     "data": {
      "image/png": "[encoded data removed]",
      "text/plain": [
       "<Figure size 1000x600 with 1 Axes>"
      ]
     },
     "metadata": {},
     "output_type": "display_data"
    }
   ],
   "source": [
    "import matplotlib.pyplot as plt\n",
    "tfidf_vectorizer = joblib.load(\"models/tfidf_vectorizer.pkl\")\n",
    "label_encoder = joblib.load(\"models/label_encoder.pkl\")\n",
    "\n",
    "k = 1235\n",
    "# Get feature (words) from the vectorizer\n",
    "feature_names = tfidf_vectorizer.get_feature_names_out()\n",
    "\n",
    "# Get non-zero indices for the first document in X_train\n",
    "non_zero_indices = X_train[k].nonzero()[1]\n",
    "\n",
    "# Get the corresponding TF-IDF scores\n",
    "tfidf_scores = [X_train[k, index] for index in non_zero_indices]\n",
    "\n",
    "# Get the corresponding words for these indices\n",
    "words = [feature_names[index] for index in non_zero_indices]\n",
    "\n",
    "# Combine words and scores into a list of tuples and sort them by score in descending order\n",
    "word_score_pairs = sorted(zip(words, tfidf_scores), key=lambda x: x[1], reverse=True)\n",
    "# Select the top 20 words and their scores\n",
    "top_words, top_scores = zip(*word_score_pairs[:20])\n",
    "\n",
    "# Create a bar plot for the TF-IDF scores\n",
    "plt.figure(figsize=(10, 6))  # Set the figure size\n",
    "plt.bar(top_words, top_scores, color='blue')  # Create a bar plot\n",
    "\n",
    "# Trouver la classe correspondant au numéro 16\n",
    "class_label = label_encoder.inverse_transform([y_train[k]])\n",
    "\n",
    "# Adding titles and labels\n",
    "plt.title(f'TF-IDF Scores for the {class_label[0]} resume')  # Title of the plot\n",
    "plt.xlabel('Words')  # X-axis label\n",
    "plt.ylabel('TF-IDF Score')  # Y-axis label\n",
    "\n",
    "# Rotate the words on X-axis for better visibility\n",
    "plt.xticks(rotation=45, ha='right')\n",
    "\n",
    "# Show the plot\n",
    "plt.show()\n"
   ]
  },
  {
   "cell_type": "markdown",
   "id": "7cfc2fb6-9d56-4aca-8854-02ac1b593097",
   "metadata": {},
   "source": [
    "# 2. Upload the preprocessing files to S3 bucket"
   ]
  },
  {
   "cell_type": "code",
   "execution_count": 15,
   "id": "20aa55db-ef9a-4bb3-a130-48f9afe3ad33",
   "metadata": {
    "tags": []
   },
   "outputs": [
    {
     "name": "stdout",
     "output_type": "stream",
     "text": [
      "File models/label_encoder.pkl uploaded to docu-classification/models/label_encoder.pkl.\n",
      "File models/tfidf_vectorizer.pkl uploaded to docu-classification/models/tfidf_vectorizer.pkl.\n"
     ]
    }
   ],
   "source": [
    "# save pkl files in S3 bucket\n",
    "file_names = [\"models/\" + filename + \".pkl\" for filename in [\"label_encoder\", \"tfidf_vectorizer\"]]\n",
    "s3_keys = [\"models/\" + filename + \".pkl\" for filename in [\"label_encoder\", \"tfidf_vectorizer\"]]\n",
    "\n",
    "for i in range(len(file_names)):\n",
    "    local_file_path = file_names[i]\n",
    "    s3_key = s3_keys[i]\n",
    "    try:\n",
    "        response = s3_client.upload_file(local_file_path, bucket_name, s3_key)\n",
    "        print(f\"File {local_file_path} uploaded to {bucket_name}/{s3_key}.\")\n",
    "    except Exception as e:\n",
    "        print(f\"Error occurred while uploading file: {e}\")\n"
   ]
  }
 ],
 "metadata": {
  "kernelspec": {
   "display_name": "conda_python3",
   "language": "python",
   "name": "conda_python3"
  },
  "language_info": {
   "codemirror_mode": {
    "name": "ipython",
    "version": 3
   },
   "file_extension": ".py",
   "mimetype": "text/x-python",
   "name": "python",
   "nbconvert_exporter": "python",
   "pygments_lexer": "ipython3",
   "version": "3.10.13"
  }
 },
 "nbformat": 4,
 "nbformat_minor": 5
}
